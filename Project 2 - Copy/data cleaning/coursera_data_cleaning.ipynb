{
 "cells": [
  {
   "cell_type": "code",
   "execution_count": 2,
   "metadata": {},
   "outputs": [],
   "source": [
    "import pandas as pd\n",
    "import re\n",
    "import numpy as np\n",
    "\n",
    "data=pd.read_csv('Coursera_processed.csv')"
   ]
  },
  {
   "cell_type": "code",
   "execution_count": null,
   "metadata": {},
   "outputs": [],
   "source": [
    "#cleaning: replace NaN with empty strings\n",
    "data[['Course_Title','Difficulty_Level', 'Language', 'Partner', 'Percent_Benefit', 'Skills', 'Teacher']]=data[['Course_Title','Difficulty_Level', 'Language', 'Partner', 'Percent_Benefit', 'Skills', 'Teacher']].fillna(\"\")"
   ]
  },
  {
   "cell_type": "code",
   "execution_count": null,
   "metadata": {},
   "outputs": [],
   "source": [
    "# looping through 2 columns to find if messily scraped data indicates difficulty level. \n",
    "# assign to new column \"Difficulty\"\n",
    "for index, row in data.iterrows():\n",
    "    if (\"Beginner\" in row[\"Difficulty_Level\"]) | (\"Beginner\" in row[\"Language\"]):\n",
    "        data.loc[index, \"Difficulty\"]=\"Beginner\"\n",
    "    elif (\"Intermediate\" in row[\"Difficulty_Level\"]) | (\"Intermediate\" in row[\"Language\"]):\n",
    "        data.loc[index, \"Difficulty\"]=\"Intermediate\"\n",
    "    elif (\"Advanced\" in row[\"Difficulty_Level\"]) | (\"Advanced\" in row[\"Language\"]):\n",
    "        data.loc[index, \"Difficulty\"]=\"Advanced\"\n",
    "    else:\n",
    "        data.loc[index, \"Difficulty\"]=\"\""
   ]
  },
  {
   "cell_type": "code",
   "execution_count": null,
   "metadata": {},
   "outputs": [],
   "source": [
    "# breaking list of 3 characteristics in Percent_Benefit into individual columns with the percents as float values\n",
    "data['Career_Benefit_Percent']=data['Percent_Benefit'].str.extract(pat=r'((?<=Career Benefit,)\\d{2})', expand=True)"
   ]
  },
  {
   "cell_type": "code",
   "execution_count": null,
   "metadata": {},
   "outputs": [],
   "source": [
    "data['Career_Direction_Percent']=data['Percent_Benefit'].str.extract(pat=r'((?<=Career direction,)\\d{2})', expand=True)"
   ]
  },
  {
   "cell_type": "code",
   "execution_count": null,
   "metadata": {},
   "outputs": [],
   "source": [
    "data['Career_Promotion_Percent']=data['Percent_Benefit'].str.extract(pat=r'((?<=Career promotion,)\\d{2})', expand=True)"
   ]
  },
  {
   "cell_type": "code",
   "execution_count": null,
   "metadata": {},
   "outputs": [],
   "source": [
    "# added columns with boolean values for whether the course was to fulfill a masters / graduation requirement\n",
    "data[\"Graduation_Cap\"]=data['Percent_Benefit'].str.contains(\"Graduation\")\n",
    "data[\"Masters\"]=data['Percent_Benefit'].str.contains(\"Master\")"
   ]
  },
  {
   "cell_type": "code",
   "execution_count": null,
   "metadata": {},
   "outputs": [],
   "source": [
    "# find the approximate course duration in hours from two columns of mixed strings\n",
    "data['Approx_Hours']=data['Difficulty_Level'].str.extract(pat=r'((?<=Approx. )\\d{1,3})', expand=True)"
   ]
  },
  {
   "cell_type": "code",
   "execution_count": null,
   "metadata": {},
   "outputs": [],
   "source": [
    "data['Approx_Hours2']=data['Language'].str.extract(pat=r'((?<=Approx. )\\d{1,3})', expand=True)"
   ]
  },
  {
   "cell_type": "code",
   "execution_count": null,
   "metadata": {},
   "outputs": [],
   "source": [
    "data[[\"Approx_Hours\", \"Approx_Hours2\"]]=data[[\"Approx_Hours\", \"Approx_Hours2\"]].astype(float)"
   ]
  },
  {
   "cell_type": "code",
   "execution_count": null,
   "metadata": {},
   "outputs": [],
   "source": [
    "# combine into a single value and avoid NaN problems\n",
    "for index, row in data.iterrows():\n",
    "    if math.isnan(row['Approx_Hours'])==False:\n",
    "        data.loc[index, \"Course_Hours\"]=row['Approx_Hours']\n",
    "    elif math.isnan(row['Approx_Hours2'])==False:\n",
    "        data.loc[index, \"Course_Hours\"]=row['Approx_Hours2']"
   ]
  },
  {
   "cell_type": "code",
   "execution_count": null,
   "metadata": {},
   "outputs": [],
   "source": [
    "# drawing out all courses listing English language in a new boolean column to see proportion / whole\n",
    "data['Language']=data['Language'].astype(str)"
   ]
  },
  {
   "cell_type": "code",
   "execution_count": null,
   "metadata": {},
   "outputs": [],
   "source": [
    "data[\"English\"]=data['Difficulty_Level'].str.contains(\"English\") | data2['Language'].str.contains(\"English\")"
   ]
  },
  {
   "cell_type": "code",
   "execution_count": null,
   "metadata": {},
   "outputs": [],
   "source": []
  },
  {
   "cell_type": "code",
   "execution_count": null,
   "metadata": {},
   "outputs": [],
   "source": []
  }
 ],
 "metadata": {
  "kernelspec": {
   "display_name": "Python 3",
   "language": "python",
   "name": "python3"
  },
  "language_info": {
   "codemirror_mode": {
    "name": "ipython",
    "version": 3
   },
   "file_extension": ".py",
   "mimetype": "text/x-python",
   "name": "python",
   "nbconvert_exporter": "python",
   "pygments_lexer": "ipython3",
   "version": "3.7.3"
  }
 },
 "nbformat": 4,
 "nbformat_minor": 2
}
